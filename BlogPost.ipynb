{
 "cells": [
  {
   "cell_type": "markdown",
   "id": "55c357b2-40b1-42d3-9f5c-10d5b569652c",
   "metadata": {},
   "source": [
    "# Credit Risk Classification\n",
    "\n",
    "This notebook explores a data set of hypothetical bank customers as well as their payments on various products, recorded in the files `customers.csv` and `payments.csv`, respectively. The goal of this exploration is to build a classifier that can identify whether a customer is a high or low credit risk."
   ]
  },
  {
   "cell_type": "markdown",
   "id": "a67152b5-d04c-4f97-ac1f-43d6554da9ef",
   "metadata": {},
   "source": [
    "## Imports"
   ]
  },
  {
   "cell_type": "code",
   "execution_count": 1,
   "id": "4b0d2ebd-89ab-4a4f-bd8a-cb70a5b55064",
   "metadata": {},
   "outputs": [],
   "source": [
    "import numpy as np\n",
    "import pandas as pd\n",
    "import seaborn as sns\n",
    "import math\n",
    "import matplotlib.pyplot as plt\n",
    "from scipy.stats import fisher_exact\n",
    "from sklearn.model_selection import train_test_split, GridSearchCV\n",
    "from sklearn.ensemble import RandomForestClassifier\n",
    "from sklearn.metrics import roc_auc_score, roc_curve"
   ]
  },
  {
   "cell_type": "markdown",
   "id": "4c4b8d3b-ae32-44f0-b7f6-f0da539e4cdb",
   "metadata": {},
   "source": [
    "## Part 1: Considering only customer data"
   ]
  },
  {
   "cell_type": "markdown",
   "id": "9ca649ae-43e1-4f87-983a-9dfa57198adc",
   "metadata": {},
   "source": [
    "For this first part, only customer data is considered. Further on, the payment data will be included so that a comparison between both approaches can be drawn and the added value of payment data established."
   ]
  },
  {
   "cell_type": "markdown",
   "id": "d83638d3-cc00-4ce8-a19d-c8a6b6f0aa6f",
   "metadata": {},
   "source": [
    "### Data exploration"
   ]
  },
  {
   "cell_type": "markdown",
   "id": "45c2db3c-56fa-4abb-a8ce-6d042b68eb96",
   "metadata": {},
   "source": [
    "The customer data is anonymised, meaning features are not recognizable. This makes heuristic data exploration next to impossible. All that is known is that some of the features are categorical while others are continuous, i.e. numerical:\n",
    "\n",
    "- Categorical features: `fea_1`, `fea_3`, `fea_5`, `fea_6`, `fea_7`, and `fea_9`\n",
    "- Continuous variables: `fea_2`, `fea_4`, `fea_8`, `fea_10`, and `fea_11`\n",
    "\n",
    "Categorical features are assumed to be unordered as there is no further information on them. The column `label` describes whether customers are a high (1) or low credit risk (0)"
   ]
  },
  {
   "cell_type": "code",
   "execution_count": 2,
   "id": "27ebc118-0b79-4a3a-87d5-cf7b120a78b8",
   "metadata": {},
   "outputs": [
    {
     "data": {
      "text/html": [
       "<div>\n",
       "<style scoped>\n",
       "    .dataframe tbody tr th:only-of-type {\n",
       "        vertical-align: middle;\n",
       "    }\n",
       "\n",
       "    .dataframe tbody tr th {\n",
       "        vertical-align: top;\n",
       "    }\n",
       "\n",
       "    .dataframe thead th {\n",
       "        text-align: right;\n",
       "    }\n",
       "</style>\n",
       "<table border=\"1\" class=\"dataframe\">\n",
       "  <thead>\n",
       "    <tr style=\"text-align: right;\">\n",
       "      <th></th>\n",
       "      <th>label</th>\n",
       "      <th>id</th>\n",
       "      <th>fea_1</th>\n",
       "      <th>fea_2</th>\n",
       "      <th>fea_3</th>\n",
       "      <th>fea_4</th>\n",
       "      <th>fea_5</th>\n",
       "      <th>fea_6</th>\n",
       "      <th>fea_7</th>\n",
       "      <th>fea_8</th>\n",
       "      <th>fea_9</th>\n",
       "      <th>fea_10</th>\n",
       "      <th>fea_11</th>\n",
       "    </tr>\n",
       "  </thead>\n",
       "  <tbody>\n",
       "    <tr>\n",
       "      <th>0</th>\n",
       "      <td>1</td>\n",
       "      <td>54982665</td>\n",
       "      <td>5</td>\n",
       "      <td>1245.5</td>\n",
       "      <td>3</td>\n",
       "      <td>77000.0</td>\n",
       "      <td>2</td>\n",
       "      <td>15</td>\n",
       "      <td>5</td>\n",
       "      <td>109</td>\n",
       "      <td>5</td>\n",
       "      <td>151300</td>\n",
       "      <td>244.948974</td>\n",
       "    </tr>\n",
       "    <tr>\n",
       "      <th>1</th>\n",
       "      <td>0</td>\n",
       "      <td>59004779</td>\n",
       "      <td>4</td>\n",
       "      <td>1277.0</td>\n",
       "      <td>1</td>\n",
       "      <td>113000.0</td>\n",
       "      <td>2</td>\n",
       "      <td>8</td>\n",
       "      <td>-1</td>\n",
       "      <td>100</td>\n",
       "      <td>3</td>\n",
       "      <td>341759</td>\n",
       "      <td>207.173840</td>\n",
       "    </tr>\n",
       "    <tr>\n",
       "      <th>2</th>\n",
       "      <td>0</td>\n",
       "      <td>58990862</td>\n",
       "      <td>7</td>\n",
       "      <td>1298.0</td>\n",
       "      <td>1</td>\n",
       "      <td>110000.0</td>\n",
       "      <td>2</td>\n",
       "      <td>11</td>\n",
       "      <td>-1</td>\n",
       "      <td>101</td>\n",
       "      <td>5</td>\n",
       "      <td>72001</td>\n",
       "      <td>1.000000</td>\n",
       "    </tr>\n",
       "    <tr>\n",
       "      <th>3</th>\n",
       "      <td>1</td>\n",
       "      <td>58995168</td>\n",
       "      <td>7</td>\n",
       "      <td>1335.5</td>\n",
       "      <td>1</td>\n",
       "      <td>151000.0</td>\n",
       "      <td>2</td>\n",
       "      <td>11</td>\n",
       "      <td>5</td>\n",
       "      <td>110</td>\n",
       "      <td>3</td>\n",
       "      <td>60084</td>\n",
       "      <td>1.000000</td>\n",
       "    </tr>\n",
       "    <tr>\n",
       "      <th>4</th>\n",
       "      <td>0</td>\n",
       "      <td>54987320</td>\n",
       "      <td>7</td>\n",
       "      <td>NaN</td>\n",
       "      <td>2</td>\n",
       "      <td>59000.0</td>\n",
       "      <td>2</td>\n",
       "      <td>11</td>\n",
       "      <td>5</td>\n",
       "      <td>108</td>\n",
       "      <td>4</td>\n",
       "      <td>450081</td>\n",
       "      <td>197.403141</td>\n",
       "    </tr>\n",
       "  </tbody>\n",
       "</table>\n",
       "</div>"
      ],
      "text/plain": [
       "  label        id fea_1   fea_2 fea_3     fea_4 fea_5 fea_6 fea_7  fea_8  \\\n",
       "0     1  54982665     5  1245.5     3   77000.0     2    15     5    109   \n",
       "1     0  59004779     4  1277.0     1  113000.0     2     8    -1    100   \n",
       "2     0  58990862     7  1298.0     1  110000.0     2    11    -1    101   \n",
       "3     1  58995168     7  1335.5     1  151000.0     2    11     5    110   \n",
       "4     0  54987320     7     NaN     2   59000.0     2    11     5    108   \n",
       "\n",
       "  fea_9  fea_10      fea_11  \n",
       "0     5  151300  244.948974  \n",
       "1     3  341759  207.173840  \n",
       "2     5   72001    1.000000  \n",
       "3     3   60084    1.000000  \n",
       "4     4  450081  197.403141  "
      ]
     },
     "execution_count": 2,
     "metadata": {},
     "output_type": "execute_result"
    }
   ],
   "source": [
    "customers = pd.read_csv(\n",
    "    \"customers.csv\",\n",
    "    dtype=\n",
    "        {\n",
    "            \"label\": \"category\",\n",
    "            \"fea_1\": \"category\",\n",
    "            \"fea_3\": \"category\",\n",
    "            \"fea_5\": \"category\",\n",
    "            \"fea_6\": \"category\",\n",
    "            \"fea_7\": \"category\",\n",
    "            \"fea_9\": \"category\",\n",
    "        }\n",
    ")\n",
    "customers.head()"
   ]
  },
  {
   "cell_type": "markdown",
   "id": "b2438793-cda2-47ac-b431-a39b1360942b",
   "metadata": {},
   "source": [
    "There are a total of 1125 customers in the dataset, of which 20% are classified as high credit risk."
   ]
  },
  {
   "cell_type": "code",
   "execution_count": 3,
   "id": "20bf68a8-3207-4ce0-80c5-914f03449b2a",
   "metadata": {},
   "outputs": [
    {
     "data": {
      "text/html": [
       "<div>\n",
       "<style scoped>\n",
       "    .dataframe tbody tr th:only-of-type {\n",
       "        vertical-align: middle;\n",
       "    }\n",
       "\n",
       "    .dataframe tbody tr th {\n",
       "        vertical-align: top;\n",
       "    }\n",
       "\n",
       "    .dataframe thead th {\n",
       "        text-align: right;\n",
       "    }\n",
       "</style>\n",
       "<table border=\"1\" class=\"dataframe\">\n",
       "  <thead>\n",
       "    <tr style=\"text-align: right;\">\n",
       "      <th></th>\n",
       "      <th>No. of customers</th>\n",
       "      <th>Percent of total</th>\n",
       "    </tr>\n",
       "    <tr>\n",
       "      <th>label</th>\n",
       "      <th></th>\n",
       "      <th></th>\n",
       "    </tr>\n",
       "  </thead>\n",
       "  <tbody>\n",
       "    <tr>\n",
       "      <th>0</th>\n",
       "      <td>900</td>\n",
       "      <td>0.8</td>\n",
       "    </tr>\n",
       "    <tr>\n",
       "      <th>1</th>\n",
       "      <td>225</td>\n",
       "      <td>0.2</td>\n",
       "    </tr>\n",
       "  </tbody>\n",
       "</table>\n",
       "</div>"
      ],
      "text/plain": [
       "       No. of customers  Percent of total\n",
       "label                                    \n",
       "0                   900               0.8\n",
       "1                   225               0.2"
      ]
     },
     "execution_count": 3,
     "metadata": {},
     "output_type": "execute_result"
    }
   ],
   "source": [
    "df = pd.DataFrame(customers.groupby(\"label\").size(), columns=[\"No. of customers\"])\n",
    "df.loc[:, \"Percent of total\"] = df / df.sum()\n",
    "df"
   ]
  },
  {
   "cell_type": "markdown",
   "id": "1047415b-dfb7-4333-acc7-77701b5d80cb",
   "metadata": {},
   "source": [
    "#### Feature value distributions"
   ]
  },
  {
   "cell_type": "markdown",
   "id": "3bb19092-eae1-4694-950b-6d11ced0b1ac",
   "metadata": {},
   "source": [
    "All features appear relatively evenly distributed across both the high and low risk labels."
   ]
  },
  {
   "cell_type": "code",
   "execution_count": 4,
   "id": "785aa3c3-cd5c-4fe7-acec-f313a481b14d",
   "metadata": {},
   "outputs": [],
   "source": [
    "def plot_feature_distributions(data, num_cols=4, cols_to_exclude=None, hue=None):\n",
    "    cols_to_exclude = [] if cols_to_exclude is None else cols_to_exclude\n",
    "    features = [feature for feature in data.columns if feature not in cols_to_exclude]\n",
    "    num_rows = math.ceil(len(features) / num_cols)\n",
    "    fig, ax = plt.subplots(num_rows, num_cols, figsize=(4 * num_cols, 4 * num_rows))\n",
    "    for ii, feature in enumerate(features):\n",
    "        plot_func = sns.countplot if pd.api.types.is_categorical_dtype(data[feature]) else sns.histplot    \n",
    "        plot_func(data=data, x=feature, hue=hue, ax=ax[ii // num_cols, ii % num_cols])"
   ]
  },
  {
   "cell_type": "code",
   "execution_count": 5,
   "id": "026de720-93dd-498f-abb3-77af46877eb2",
   "metadata": {},
   "outputs": [
    {
     "data": {
      "image/png": "[encoded data removed]",
      "text/plain": [
       "<Figure size 1152x864 with 12 Axes>"
      ]
     },
     "metadata": {
      "needs_background": "light"
     },
     "output_type": "display_data"
    }
   ],
   "source": [
    "plot_feature_distributions(data=customers, num_cols=4, cols_to_exclude=[\"id\", \"label\"], hue=\"label\")"
   ]
  },
  {
   "cell_type": "markdown",
   "id": "46f2aaf1-590d-47b9-8c6e-626d34508287",
   "metadata": {},
   "source": [
    "#### Missing values"
   ]
  },
  {
   "cell_type": "markdown",
   "id": "3630a553-ad76-4f97-8ff5-baad2eb64b99",
   "metadata": {},
   "source": [
    "Only `fea_2` exhibits missing values. Approximately `13.2%` of all customers are missing a value for this feature."
   ]
  },
  {
   "cell_type": "code",
   "execution_count": 6,
   "id": "b0922222-13f9-46a0-ab67-c41d58b171c8",
   "metadata": {},
   "outputs": [
    {
     "data": {
      "text/html": [
       "<div>\n",
       "<style scoped>\n",
       "    .dataframe tbody tr th:only-of-type {\n",
       "        vertical-align: middle;\n",
       "    }\n",
       "\n",
       "    .dataframe tbody tr th {\n",
       "        vertical-align: top;\n",
       "    }\n",
       "\n",
       "    .dataframe thead th {\n",
       "        text-align: right;\n",
       "    }\n",
       "</style>\n",
       "<table border=\"1\" class=\"dataframe\">\n",
       "  <thead>\n",
       "    <tr style=\"text-align: right;\">\n",
       "      <th></th>\n",
       "      <th>No. missing values</th>\n",
       "      <th>Percent of total</th>\n",
       "    </tr>\n",
       "  </thead>\n",
       "  <tbody>\n",
       "    <tr>\n",
       "      <th>label</th>\n",
       "      <td>0</td>\n",
       "      <td>0.000000</td>\n",
       "    </tr>\n",
       "    <tr>\n",
       "      <th>id</th>\n",
       "      <td>0</td>\n",
       "      <td>0.000000</td>\n",
       "    </tr>\n",
       "    <tr>\n",
       "      <th>fea_1</th>\n",
       "      <td>0</td>\n",
       "      <td>0.000000</td>\n",
       "    </tr>\n",
       "    <tr>\n",
       "      <th>fea_2</th>\n",
       "      <td>149</td>\n",
       "      <td>0.132444</td>\n",
       "    </tr>\n",
       "    <tr>\n",
       "      <th>fea_3</th>\n",
       "      <td>0</td>\n",
       "      <td>0.000000</td>\n",
       "    </tr>\n",
       "    <tr>\n",
       "      <th>fea_4</th>\n",
       "      <td>0</td>\n",
       "      <td>0.000000</td>\n",
       "    </tr>\n",
       "    <tr>\n",
       "      <th>fea_5</th>\n",
       "      <td>0</td>\n",
       "      <td>0.000000</td>\n",
       "    </tr>\n",
       "    <tr>\n",
       "      <th>fea_6</th>\n",
       "      <td>0</td>\n",
       "      <td>0.000000</td>\n",
       "    </tr>\n",
       "    <tr>\n",
       "      <th>fea_7</th>\n",
       "      <td>0</td>\n",
       "      <td>0.000000</td>\n",
       "    </tr>\n",
       "    <tr>\n",
       "      <th>fea_8</th>\n",
       "      <td>0</td>\n",
       "      <td>0.000000</td>\n",
       "    </tr>\n",
       "    <tr>\n",
       "      <th>fea_9</th>\n",
       "      <td>0</td>\n",
       "      <td>0.000000</td>\n",
       "    </tr>\n",
       "    <tr>\n",
       "      <th>fea_10</th>\n",
       "      <td>0</td>\n",
       "      <td>0.000000</td>\n",
       "    </tr>\n",
       "    <tr>\n",
       "      <th>fea_11</th>\n",
       "      <td>0</td>\n",
       "      <td>0.000000</td>\n",
       "    </tr>\n",
       "  </tbody>\n",
       "</table>\n",
       "</div>"
      ],
      "text/plain": [
       "        No. missing values  Percent of total\n",
       "label                    0          0.000000\n",
       "id                       0          0.000000\n",
       "fea_1                    0          0.000000\n",
       "fea_2                  149          0.132444\n",
       "fea_3                    0          0.000000\n",
       "fea_4                    0          0.000000\n",
       "fea_5                    0          0.000000\n",
       "fea_6                    0          0.000000\n",
       "fea_7                    0          0.000000\n",
       "fea_8                    0          0.000000\n",
       "fea_9                    0          0.000000\n",
       "fea_10                   0          0.000000\n",
       "fea_11                   0          0.000000"
      ]
     },
     "execution_count": 6,
     "metadata": {},
     "output_type": "execute_result"
    }
   ],
   "source": [
    "df = pd.DataFrame(customers.isnull().sum(), columns=[\"No. missing values\"])\n",
    "df.loc[:, \"Percent of total\"] = df / len(customers)\n",
    "df"
   ]
  },
  {
   "cell_type": "markdown",
   "id": "b9f3f53a-75c6-4944-a138-a1564dbe6799",
   "metadata": {},
   "source": [
    "There is a slight preference towards high risk customers missing a value (24% of all customers who are missing values in `fea_2` are high risk versus only 20% of all customers are high risk)."
   ]
  },
  {
   "cell_type": "code",
   "execution_count": 7,
   "id": "be979d77-a09a-422d-a17e-c0a4e7f062b2",
   "metadata": {},
   "outputs": [
    {
     "data": {
      "text/html": [
       "<div>\n",
       "<style scoped>\n",
       "    .dataframe tbody tr th:only-of-type {\n",
       "        vertical-align: middle;\n",
       "    }\n",
       "\n",
       "    .dataframe tbody tr th {\n",
       "        vertical-align: top;\n",
       "    }\n",
       "\n",
       "    .dataframe thead th {\n",
       "        text-align: right;\n",
       "    }\n",
       "</style>\n",
       "<table border=\"1\" class=\"dataframe\">\n",
       "  <thead>\n",
       "    <tr style=\"text-align: right;\">\n",
       "      <th></th>\n",
       "      <th>No. of customers with missing value in fea_2</th>\n",
       "      <th>Percent of total</th>\n",
       "    </tr>\n",
       "    <tr>\n",
       "      <th>Label</th>\n",
       "      <th></th>\n",
       "      <th></th>\n",
       "    </tr>\n",
       "  </thead>\n",
       "  <tbody>\n",
       "    <tr>\n",
       "      <th>0</th>\n",
       "      <td>112</td>\n",
       "      <td>0.751678</td>\n",
       "    </tr>\n",
       "    <tr>\n",
       "      <th>1</th>\n",
       "      <td>37</td>\n",
       "      <td>0.248322</td>\n",
       "    </tr>\n",
       "  </tbody>\n",
       "</table>\n",
       "</div>"
      ],
      "text/plain": [
       "       No. of customers with missing value in fea_2  Percent of total\n",
       "Label                                                                \n",
       "0                                               112          0.751678\n",
       "1                                                37          0.248322"
      ]
     },
     "execution_count": 7,
     "metadata": {},
     "output_type": "execute_result"
    }
   ],
   "source": [
    "df = pd.DataFrame(\n",
    "    {\n",
    "        \"Label\": customers.loc[:, \"label\"],\n",
    "        \"No. of customers with missing value in fea_2\": customers.loc[:, \"fea_2\"].isnull(),\n",
    "    }\n",
    ").groupby(\"Label\").sum()\n",
    "df.loc[:, \"Percent of total\"] = df / df.sum()\n",
    "df"
   ]
  },
  {
   "cell_type": "markdown",
   "id": "10f8b205-210d-49fb-9e6b-1da673de7df6",
   "metadata": {},
   "source": [
    "However, [Fisher's exact test](https://en.wikipedia.org/wiki/Fisher%27s_exact_test) shows that this imbalance is most likely not statistically significant and therefor unlikely to be a predictor for credit risk."
   ]
  },
  {
   "cell_type": "code",
   "execution_count": 8,
   "id": "9eee2728-9b8e-4b93-8403-b89f79f01e72",
   "metadata": {},
   "outputs": [
    {
     "name": "stdout",
     "output_type": "stream",
     "text": [
      "P-Value of Fisher's exact test: 0.1236\n"
     ]
    }
   ],
   "source": [
    "contingency_matrix = np.array(\n",
    "    [\n",
    "        [\n",
    "            ((customers.loc[:, \"label\"] == \"0\") & customers.loc[:, \"fea_2\"].isnull()).sum(),\n",
    "            ((customers.loc[:, \"label\"] == \"1\") & customers.loc[:, \"fea_2\"].isnull()).sum(),\n",
    "        ],\n",
    "        [\n",
    "            ((customers.loc[:, \"label\"] == \"0\") & ~customers.loc[:, \"fea_2\"].isnull()).sum(),\n",
    "            ((customers.loc[:, \"label\"] == \"1\") & ~customers.loc[:, \"fea_2\"].isnull()).sum(),\n",
    "        ],\n",
    "    ]\n",
    ")\n",
    "_, p = fisher_exact(contingency_matrix, alternative=\"two-sided\")\n",
    "print(f\"P-Value of Fisher's exact test: {p:.4f}\")"
   ]
  },
  {
   "cell_type": "markdown",
   "id": "948b6c25-27d6-4c09-ad18-804464e33147",
   "metadata": {},
   "source": [
    "Luckily, `fea_2` is a continuous feature, so imputation is easy. Several options are available, including:\n",
    "\n",
    "- replacing missing values with the mean or median of the remaining values\n",
    "- determining the generating distribution for `fea_2` and sampling new values from it\n",
    "- randomly sampling from the remaining values\n",
    "\n",
    "There are too many missing values for the first option, it would noticeably skew the distribution of values and affect downstream analysis too severely. The second option is excessively complex and requires an estimation of the distribution of `fea_2`, which may introduce errors. The last option is the most suitable, as it allows sampling from the effective distribution without actually knowing it. Note that this may be difficult to bring into production, however. A production environment will most likely not have access to the training data, so the list of possible values from which to sample must be retained as part of the deployed model."
   ]
  },
  {
   "cell_type": "code",
   "execution_count": 9,
   "id": "3ddf4e46-4646-4242-8425-eb1bb630de09",
   "metadata": {},
   "outputs": [],
   "source": [
    "missing_val_customers = customers.loc[customers.loc[:, \"fea_2\"].isnull(), :]\n",
    "random_sample = (\n",
    "    customers\n",
    "    .loc[~customers.loc[:, \"fea_2\"].isnull(), \"fea_2\"]\n",
    "    .sample(len(missing_val_customers))\n",
    "    .values\n",
    ")\n",
    "customers.loc[customers.loc[:, \"fea_2\"].isnull(), \"fea_2\"] = random_sample"
   ]
  },
  {
   "cell_type": "markdown",
   "id": "3fb2d23e-2ea5-4c40-a046-aca9604544ca",
   "metadata": {},
   "source": [
    "### Predictive modeling"
   ]
  },
  {
   "cell_type": "markdown",
   "id": "9a883d8b-a792-4692-a2cf-cbdc43887135",
   "metadata": {},
   "source": [
    "As the data contains both categorical and numerical data, a random forest is the most intuitive choice for classification. Alternative approaches, like logistic regression or SVMs, would require that categorical features be split into multiple boolean features, one for each possible value of the original feature. For example, if a categorical feature `fea_X` can take on 3 values, `\"0\"`, `\"1\"`, and `\"2\"`, then it would need to be split into three features, `fea_x_is_1`, `fea_x_is_2`, and `fea_x_is_3`. This would cause the number of features to increase dramatically and make modeling more difficult."
   ]
  },
  {
   "cell_type": "markdown",
   "id": "3d7cb017-65ba-4562-872b-e2eb6cce8a56",
   "metadata": {},
   "source": [
    "#### Preparing the data"
   ]
  },
  {
   "cell_type": "markdown",
   "id": "0a431412-8bd1-42a4-bf3d-fbc1bb193ca6",
   "metadata": {},
   "source": [
    "Data is split into a training and test set to tune hyperparameters and assess performance, respectively."
   ]
  },
  {
   "cell_type": "code",
   "execution_count": 10,
   "id": "3e056cd7-5801-40f8-94f5-d6df1af740e3",
   "metadata": {},
   "outputs": [],
   "source": [
    "X_train, X_test, y_train, y_test = train_test_split(\n",
    "    customers.drop([\"label\", \"id\"], axis=1),\n",
    "    customers.loc[:, \"label\"].astype(int),\n",
    "    test_size=0.5,\n",
    "    stratify=customers.loc[:, \"label\"].astype(int),\n",
    "    random_state=42,\n",
    ")"
   ]
  },
  {
   "cell_type": "markdown",
   "id": "2d4bc8d8-e38d-44a3-a039-34759c12cfc6",
   "metadata": {},
   "source": [
    "Non-categorical data columns are normalized to have a median of 0 and a mean absolute deviation of 1. This is more robust than mean and standard deviation and more applicable to non-normally distributed values. Any features for which `mad == 0` will be removed.\n",
    "\n",
    "The normalization parameters are calculated from only the training set to keep the test set as independent as possible and not bias the model towards this particular data distribution."
   ]
  },
  {
   "cell_type": "code",
   "execution_count": 11,
   "id": "42dc201c-8f18-4209-991d-4d1b4460ff46",
   "metadata": {},
   "outputs": [],
   "source": [
    "medians = X_train.median(numeric_only=True)\n",
    "mads = X_train.mad()\n",
    "# This is a sanity check to ensure both median and mad only handle the numeric features since *.mad doesn't provide the numeric_only argument\n",
    "assert set(medians.index) == set(mads.index)\n",
    "\n",
    "X_train = X_train.drop(mads[mads == 0].index, axis=1)\n",
    "X_test = X_test.drop(mads[mads == 0].index, axis=1)\n",
    "\n",
    "for col in X_train.columns:\n",
    "    if col not in medians.index:\n",
    "        continue\n",
    "    X_train.loc[:, col] -= medians[col]\n",
    "    X_train.loc[:, col] /= mads[col]\n",
    "    X_test.loc[:, col] -= medians[col]\n",
    "    X_test.loc[:, col] /= mads[col]"
   ]
  },
  {
   "cell_type": "markdown",
   "id": "543327d3-bd59-4eb9-a2b7-fa4883911341",
   "metadata": {},
   "source": [
    "#### Hyperparameter tuning with cross-validation"
   ]
  },
  {
   "cell_type": "markdown",
   "id": "df4cf3f9-f937-4e2a-aa39-e69ec338a3bd",
   "metadata": {},
   "source": [
    "There are a number of possible parameters for a random forest classifier."
   ]
  },
  {
   "cell_type": "code",
   "execution_count": 12,
   "id": "21e1c4fd-581b-48a8-81ed-dd453cf30c0c",
   "metadata": {},
   "outputs": [
    {
     "data": {
      "text/plain": [
       "{'bootstrap': True,\n",
       " 'ccp_alpha': 0.0,\n",
       " 'class_weight': None,\n",
       " 'criterion': 'gini',\n",
       " 'max_depth': None,\n",
       " 'max_features': 'auto',\n",
       " 'max_leaf_nodes': None,\n",
       " 'max_samples': None,\n",
       " 'min_impurity_decrease': 0.0,\n",
       " 'min_impurity_split': None,\n",
       " 'min_samples_leaf': 1,\n",
       " 'min_samples_split': 2,\n",
       " 'min_weight_fraction_leaf': 0.0,\n",
       " 'n_estimators': 100,\n",
       " 'n_jobs': None,\n",
       " 'oob_score': False,\n",
       " 'random_state': None,\n",
       " 'verbose': 0,\n",
       " 'warm_start': False}"
      ]
     },
     "execution_count": 12,
     "metadata": {},
     "output_type": "execute_result"
    }
   ],
   "source": [
    "RandomForestClassifier().get_params()"
   ]
  },
  {
   "cell_type": "markdown",
   "id": "51093615-d72f-4a55-87f3-9fcaeb8d0837",
   "metadata": {},
   "source": [
    "Many of these are interdependent, however. The most impactful (and intuitive) parameters are the number of estimators, the maximum depth, and the maximum number of features considered at each split."
   ]
  },
  {
   "cell_type": "code",
   "execution_count": 13,
   "id": "0cf0b5f4-4d57-418e-9b14-b2f51c6abb18",
   "metadata": {},
   "outputs": [
    {
     "data": {
      "text/plain": [
       "GridSearchCV(estimator=RandomForestClassifier(),\n",
       "             param_grid={'max_depth': [None, 3, 5, 10, 20, 50],\n",
       "                         'max_features': [None, 'auto', 'sqrt', 'log2'],\n",
       "                         'n_estimators': [10, 25, 50, 100]})"
      ]
     },
     "execution_count": 13,
     "metadata": {},
     "output_type": "execute_result"
    }
   ],
   "source": [
    "param_grid = {\n",
    "    \"n_estimators\": [10, 25, 50, 100],\n",
    "    \"max_depth\": [None, 3, 5, 10, 20, 50],\n",
    "    \"max_features\": [None, \"auto\", \"sqrt\", \"log2\"]\n",
    "}\n",
    "grid_search = GridSearchCV(\n",
    "    estimator=RandomForestClassifier(),\n",
    "    param_grid=param_grid,\n",
    ")\n",
    "grid_search.fit(X_train, y_train)"
   ]
  },
  {
   "cell_type": "markdown",
   "id": "553e7b19-a921-4fc8-9077-cbe81aeca3f5",
   "metadata": {},
   "source": [
    "#### Train best estimator on entire training data"
   ]
  },
  {
   "cell_type": "code",
   "execution_count": 14,
   "id": "a0febd26-623c-4ed6-8f02-b545385becda",
   "metadata": {},
   "outputs": [],
   "source": [
    "estimator = grid_search.best_estimator_\n",
    "estimator.fit(X_train, y_train);"
   ]
  },
  {
   "cell_type": "markdown",
   "id": "62ff2565-ec94-4505-af17-9933a9291ca1",
   "metadata": {},
   "source": [
    "#### Performance evaluation on test set"
   ]
  },
  {
   "cell_type": "markdown",
   "id": "3574ad33-13ec-4954-b589-7f9f36321854",
   "metadata": {},
   "source": [
    "The classifier does not perform very well, with an AUC of just above random. The customer data alone is clearly not enough to adequately predict credit risk."
   ]
  },
  {
   "cell_type": "code",
   "execution_count": 18,
   "id": "2c8050b0-6e02-42c1-89a9-afe54d26f155",
   "metadata": {},
   "outputs": [
    {
     "data": {
      "image/png": "[encoded data removed]",
      "text/plain": [
       "<Figure size 432x288 with 1 Axes>"
      ]
     },
     "metadata": {
      "needs_background": "light"
     },
     "output_type": "display_data"
    }
   ],
   "source": [
    "def get_precision_recall(y_pred, y_true):\n",
    "    results = []\n",
    "    for _t in np.linspace(0, y_pred.max(), 101):\n",
    "        tp = np.logical_and(y_pred >= _t, y_true == 1).sum()\n",
    "        fp = np.logical_and(y_pred >= _t, y_true == 0).sum()\n",
    "        tn = np.logical_and(y_pred < _t, y_true == 0).sum()\n",
    "        fn = np.logical_and(y_pred < _t, y_true == 1).sum()\n",
    "        precision = tp / (tp + fp) if tp > 0 else 0\n",
    "        recall = tp / (tp + fn) if tp > 0 else 0\n",
    "        results.append((_t, tp, fp, tn, fn, precision, recall))\n",
    "    return pd.DataFrame(\n",
    "        results, \n",
    "        columns=[\n",
    "            \"Threshold\", \n",
    "            \"True Positives\", \n",
    "            \"False Positives\", \n",
    "            \"True Negatives\", \n",
    "            \"False Negatives\", \n",
    "            \"Precision\", \n",
    "            \"Recall\"\n",
    "        ]\n",
    "    )\n",
    "\n",
    "y_pred_test = estimator.predict_proba(X_test)[:, 1]\n",
    "pr = get_precision_recall(y_pred_test, y_test)\n",
    "auc = roc_auc_score(y_true=y_test, y_score=y_pred_test)\n",
    "sns.lineplot(data=pr, x=\"Recall\", y=\"Precision\").set_title(f\"Precision-Recall Curve on Test Data | AUC = {auc:.4f}\");"
   ]
  },
  {
   "cell_type": "markdown",
   "id": "f480805b-c578-4a51-8e46-bd8c19372837",
   "metadata": {},
   "source": [
    "Even on the training data the performance is modest."
   ]
  },
  {
   "cell_type": "code",
   "execution_count": 16,
   "id": "6bc76759-7b41-4475-99b4-25072f89d201",
   "metadata": {},
   "outputs": [
    {
     "data": {
      "image/png": "[encoded data removed]",
      "text/plain": [
       "<Figure size 432x288 with 1 Axes>"
      ]
     },
     "metadata": {
      "needs_background": "light"
     },
     "output_type": "display_data"
    }
   ],
   "source": [
    "y_pred_train = estimator.predict_proba(X_train)[:, 1]\n",
    "pr = get_precision_recall(y_pred_train, y_train)\n",
    "auc = roc_auc_score(y_true=y_train, y_score=y_pred_train)\n",
    "sns.lineplot(data=pr, x=\"Recall\", y=\"Precision\").set_title(f\"Precision-Recall Curve on Test Data | AUC = {auc:.4f}\");"
   ]
  },
  {
   "cell_type": "markdown",
   "id": "35822b21-f37f-436a-abc4-979c2f1015dd",
   "metadata": {},
   "source": [
    "## Part 2: Including payment data"
   ]
  },
  {
   "cell_type": "markdown",
   "id": "438a276e-767c-440d-bdb1-c60b0d35d870",
   "metadata": {},
   "source": [
    "The payment data consists of multiple rows per customer with details about each customer's payment history for certain products. The data consists of the following columns:\n",
    "\n",
    "- `id`: Customer ID\n",
    "- `OVD_t1`: Number of times payment was overdue (type 1)\n",
    "- `OVD_t2`: Number of times payment was overdue (type 2)\n",
    "- `OVD_t3`: Number of times payment was overdue (type 3)\n",
    "- `OVD_sum`: Total number of overdue days\n",
    "- `pay_normal`: Number of times normal payment was made\n",
    "- `prod_code`: Credit product code\n",
    "- `prod_limit`: Credit limit of the product\n",
    "- `update_date`: Account update date\n",
    "- `new_balance`: Current balance of the product\n",
    "- `highest_balance`: Highest balance in history\n",
    "- `report_date`: Date of recent payment\n",
    "\n",
    "More information is not known, e.g. what the different types of overdue payments are or details about credit products. "
   ]
  },
  {
   "cell_type": "code",
   "execution_count": 22,
   "id": "77c846a9-4a73-4e79-b2d4-0afdb734a571",
   "metadata": {},
   "outputs": [
    {
     "data": {
      "text/html": [
       "<div>\n",
       "<style scoped>\n",
       "    .dataframe tbody tr th:only-of-type {\n",
       "        vertical-align: middle;\n",
       "    }\n",
       "\n",
       "    .dataframe tbody tr th {\n",
       "        vertical-align: top;\n",
       "    }\n",
       "\n",
       "    .dataframe thead th {\n",
       "        text-align: right;\n",
       "    }\n",
       "</style>\n",
       "<table border=\"1\" class=\"dataframe\">\n",
       "  <thead>\n",
       "    <tr style=\"text-align: right;\">\n",
       "      <th></th>\n",
       "      <th>id</th>\n",
       "      <th>OVD_t1</th>\n",
       "      <th>OVD_t2</th>\n",
       "      <th>OVD_t3</th>\n",
       "      <th>OVD_sum</th>\n",
       "      <th>pay_normal</th>\n",
       "      <th>prod_code</th>\n",
       "      <th>prod_limit</th>\n",
       "      <th>update_date</th>\n",
       "      <th>new_balance</th>\n",
       "      <th>highest_balance</th>\n",
       "      <th>report_date</th>\n",
       "    </tr>\n",
       "  </thead>\n",
       "  <tbody>\n",
       "    <tr>\n",
       "      <th>0</th>\n",
       "      <td>58987402</td>\n",
       "      <td>0</td>\n",
       "      <td>0</td>\n",
       "      <td>0</td>\n",
       "      <td>0</td>\n",
       "      <td>1</td>\n",
       "      <td>10</td>\n",
       "      <td>16500.0</td>\n",
       "      <td>2016-04-12</td>\n",
       "      <td>0.0</td>\n",
       "      <td>NaN</td>\n",
       "      <td>NaT</td>\n",
       "    </tr>\n",
       "    <tr>\n",
       "      <th>1</th>\n",
       "      <td>58995151</td>\n",
       "      <td>0</td>\n",
       "      <td>0</td>\n",
       "      <td>0</td>\n",
       "      <td>0</td>\n",
       "      <td>1</td>\n",
       "      <td>5</td>\n",
       "      <td>NaN</td>\n",
       "      <td>2016-04-12</td>\n",
       "      <td>588720.0</td>\n",
       "      <td>491100.0</td>\n",
       "      <td>NaT</td>\n",
       "    </tr>\n",
       "    <tr>\n",
       "      <th>2</th>\n",
       "      <td>58997200</td>\n",
       "      <td>0</td>\n",
       "      <td>0</td>\n",
       "      <td>0</td>\n",
       "      <td>0</td>\n",
       "      <td>2</td>\n",
       "      <td>5</td>\n",
       "      <td>NaN</td>\n",
       "      <td>2016-04-12</td>\n",
       "      <td>840000.0</td>\n",
       "      <td>700500.0</td>\n",
       "      <td>2016-04-22</td>\n",
       "    </tr>\n",
       "    <tr>\n",
       "      <th>3</th>\n",
       "      <td>54988608</td>\n",
       "      <td>0</td>\n",
       "      <td>0</td>\n",
       "      <td>0</td>\n",
       "      <td>0</td>\n",
       "      <td>3</td>\n",
       "      <td>10</td>\n",
       "      <td>37400.0</td>\n",
       "      <td>2016-03-12</td>\n",
       "      <td>8425.2</td>\n",
       "      <td>7520.0</td>\n",
       "      <td>2016-04-25</td>\n",
       "    </tr>\n",
       "    <tr>\n",
       "      <th>4</th>\n",
       "      <td>54987763</td>\n",
       "      <td>0</td>\n",
       "      <td>0</td>\n",
       "      <td>0</td>\n",
       "      <td>0</td>\n",
       "      <td>2</td>\n",
       "      <td>10</td>\n",
       "      <td>NaN</td>\n",
       "      <td>2016-03-12</td>\n",
       "      <td>15147.6</td>\n",
       "      <td>NaN</td>\n",
       "      <td>2016-04-26</td>\n",
       "    </tr>\n",
       "  </tbody>\n",
       "</table>\n",
       "</div>"
      ],
      "text/plain": [
       "         id  OVD_t1  OVD_t2  OVD_t3  OVD_sum  pay_normal  prod_code  \\\n",
       "0  58987402       0       0       0        0           1         10   \n",
       "1  58995151       0       0       0        0           1          5   \n",
       "2  58997200       0       0       0        0           2          5   \n",
       "3  54988608       0       0       0        0           3         10   \n",
       "4  54987763       0       0       0        0           2         10   \n",
       "\n",
       "   prod_limit update_date  new_balance  highest_balance report_date  \n",
       "0     16500.0  2016-04-12          0.0              NaN         NaT  \n",
       "1         NaN  2016-04-12     588720.0         491100.0         NaT  \n",
       "2         NaN  2016-04-12     840000.0         700500.0  2016-04-22  \n",
       "3     37400.0  2016-03-12       8425.2           7520.0  2016-04-25  \n",
       "4         NaN  2016-03-12      15147.6              NaN  2016-04-26  "
      ]
     },
     "execution_count": 22,
     "metadata": {},
     "output_type": "execute_result"
    }
   ],
   "source": [
    "payments = pd.read_csv(\"payments.csv\", parse_dates=[\"update_date\", \"report_date\"])\n",
    "payments.head()"
   ]
  },
  {
   "cell_type": "markdown",
   "id": "e5946cdc-5b8d-4702-862d-acdbdbb91ffe",
   "metadata": {},
   "source": [
    "### Data exploration"
   ]
  },
  {
   "cell_type": "markdown",
   "id": "c19f2fa4-6186-4e86-9a43-ffe4563340f5",
   "metadata": {},
   "source": [
    "The number of transactions per customers ranges from 1 to more than 50."
   ]
  },
  {
   "cell_type": "code",
   "execution_count": 23,
   "id": "31f31fb6-c359-42c5-8a6b-f090e8b79e18",
   "metadata": {},
   "outputs": [
    {
     "data": {
      "image/png": "[encoded data removed]",
      "text/plain": [
       "<Figure size 432x288 with 1 Axes>"
      ]
     },
     "metadata": {
      "needs_background": "light"
     },
     "output_type": "display_data"
    }
   ],
   "source": [
    "plt.plot(payments.groupby(\"id\").size().sort_values().values);\n",
    "plt.title(\"Number of payment transactions per customer\");\n",
    "plt.xlabel(\"\");\n",
    "plt.gca().axes.xaxis.set_visible(False)"
   ]
  },
  {
   "cell_type": "markdown",
   "id": "c9f9f37c-5764-4468-953e-c0d457902d6a",
   "metadata": {},
   "source": [
    "The goal is to generate customer-specific features, since it is customers that should be classified. Barring more complex approaches, like LSTM neural networks that allow for inputs with variable length, the most intuitive approach to engineer these features is to aggregate entries for each customer and generate summary metrics.\n",
    "\n",
    "The first instinct might be to generate summary statistics for each product individually. However, there is simply not enough data for this kind of approach. A look at the frequency of each product across all customers shows that most products were bought by only a handful of customers. This would result in a very sparse feature matrix as product-specific features would all be missing for customers that did not buy these products."
   ]
  },
  {
   "cell_type": "code",
   "execution_count": 59,
   "id": "d615221f-8aad-43f9-81bb-0734bdcbe7b9",
   "metadata": {},
   "outputs": [
    {
     "data": {
      "image/png": "[encoded data removed]",
      "text/plain": [
       "<Figure size 432x288 with 1 Axes>"
      ]
     },
     "metadata": {
      "needs_background": "light"
     },
     "output_type": "display_data"
    }
   ],
   "source": [
    "num_customers_with_product = (\n",
    "    payments\n",
    "    .groupby([\"id\", \"prod_code\"])\n",
    "    .size()\n",
    "    .reset_index()\n",
    "    .drop(0, axis=1)\n",
    "    .groupby(\"prod_code\")\n",
    "    .size()\n",
    ")\n",
    "plt.bar(x=num_customers_with_product.index, height=num_customers_with_product)\n",
    "plt.title(\"Number of Customers who bought a product\");\n",
    "plt.xlabel(\"Product code\");"
   ]
  },
  {
   "cell_type": "markdown",
   "id": "cae413be-dc95-425d-8e92-47bcf080f87d",
   "metadata": {},
   "source": [
    "Instead, features will be aggregated regardless of product code. In order to still retain some information about product diversity, the total number of products as well as the total number of unique products per customer will be considered as features."
   ]
  },
  {
   "cell_type": "markdown",
   "id": "bc480e46-9090-4f46-9bb3-cdbedeabcc33",
   "metadata": {},
   "source": [
    "#### Missing values"
   ]
  },
  {
   "cell_type": "markdown",
   "id": "62511d8d-28b4-48ea-ac74-930741b1833f",
   "metadata": {},
   "source": [
    "Only a handful of features are missing values."
   ]
  },
  {
   "cell_type": "code",
   "execution_count": 63,
   "id": "ce80e8c8-9b36-469a-840f-cb2762bcd903",
   "metadata": {},
   "outputs": [
    {
     "data": {
      "text/html": [
       "<div>\n",
       "<style scoped>\n",
       "    .dataframe tbody tr th:only-of-type {\n",
       "        vertical-align: middle;\n",
       "    }\n",
       "\n",
       "    .dataframe tbody tr th {\n",
       "        vertical-align: top;\n",
       "    }\n",
       "\n",
       "    .dataframe thead th {\n",
       "        text-align: right;\n",
       "    }\n",
       "</style>\n",
       "<table border=\"1\" class=\"dataframe\">\n",
       "  <thead>\n",
       "    <tr style=\"text-align: right;\">\n",
       "      <th></th>\n",
       "      <th>Missing values</th>\n",
       "      <th>Percent of total</th>\n",
       "    </tr>\n",
       "  </thead>\n",
       "  <tbody>\n",
       "    <tr>\n",
       "      <th>id</th>\n",
       "      <td>0</td>\n",
       "      <td>0.000000</td>\n",
       "    </tr>\n",
       "    <tr>\n",
       "      <th>OVD_t1</th>\n",
       "      <td>0</td>\n",
       "      <td>0.000000</td>\n",
       "    </tr>\n",
       "    <tr>\n",
       "      <th>OVD_t2</th>\n",
       "      <td>0</td>\n",
       "      <td>0.000000</td>\n",
       "    </tr>\n",
       "    <tr>\n",
       "      <th>OVD_t3</th>\n",
       "      <td>0</td>\n",
       "      <td>0.000000</td>\n",
       "    </tr>\n",
       "    <tr>\n",
       "      <th>OVD_sum</th>\n",
       "      <td>0</td>\n",
       "      <td>0.000000</td>\n",
       "    </tr>\n",
       "    <tr>\n",
       "      <th>pay_normal</th>\n",
       "      <td>0</td>\n",
       "      <td>0.000000</td>\n",
       "    </tr>\n",
       "    <tr>\n",
       "      <th>prod_code</th>\n",
       "      <td>0</td>\n",
       "      <td>0.000000</td>\n",
       "    </tr>\n",
       "    <tr>\n",
       "      <th>prod_limit</th>\n",
       "      <td>6118</td>\n",
       "      <td>0.741576</td>\n",
       "    </tr>\n",
       "    <tr>\n",
       "      <th>update_date</th>\n",
       "      <td>26</td>\n",
       "      <td>0.003152</td>\n",
       "    </tr>\n",
       "    <tr>\n",
       "      <th>new_balance</th>\n",
       "      <td>0</td>\n",
       "      <td>0.000000</td>\n",
       "    </tr>\n",
       "    <tr>\n",
       "      <th>highest_balance</th>\n",
       "      <td>409</td>\n",
       "      <td>0.049576</td>\n",
       "    </tr>\n",
       "    <tr>\n",
       "      <th>report_date</th>\n",
       "      <td>1114</td>\n",
       "      <td>0.135030</td>\n",
       "    </tr>\n",
       "  </tbody>\n",
       "</table>\n",
       "</div>"
      ],
      "text/plain": [
       "                 Missing values  Percent of total\n",
       "id                            0          0.000000\n",
       "OVD_t1                        0          0.000000\n",
       "OVD_t2                        0          0.000000\n",
       "OVD_t3                        0          0.000000\n",
       "OVD_sum                       0          0.000000\n",
       "pay_normal                    0          0.000000\n",
       "prod_code                     0          0.000000\n",
       "prod_limit                 6118          0.741576\n",
       "update_date                  26          0.003152\n",
       "new_balance                   0          0.000000\n",
       "highest_balance             409          0.049576\n",
       "report_date                1114          0.135030"
      ]
     },
     "execution_count": 63,
     "metadata": {},
     "output_type": "execute_result"
    }
   ],
   "source": [
    "pd.DataFrame(\n",
    "    {\n",
    "        \"Missing values\": payments.isnull().sum(),\n",
    "        \"Percent of total\": payments.isnull().mean(),\n",
    "    }\n",
    ")"
   ]
  },
  {
   "cell_type": "markdown",
   "id": "17f55227-326d-48d5-a802-4628185eba66",
   "metadata": {},
   "source": [
    "Most notable is that `prod_limit` has more values missing than not. This most likely means that these products didn't have a limit. As this is difficult to encode for a machine learning algorithm (there is no numerical equivalent to \"no limit\"), this feature is best transformed to a boolean flag describing whether the product has a limit or not."
   ]
  },
  {
   "cell_type": "code",
   "execution_count": 65,
   "id": "88a887cc-85cf-43c7-b1fa-72ff6f69c692",
   "metadata": {},
   "outputs": [
    {
     "data": {
      "text/html": [
       "<div>\n",
       "<style scoped>\n",
       "    .dataframe tbody tr th:only-of-type {\n",
       "        vertical-align: middle;\n",
       "    }\n",
       "\n",
       "    .dataframe tbody tr th {\n",
       "        vertical-align: top;\n",
       "    }\n",
       "\n",
       "    .dataframe thead th {\n",
       "        text-align: right;\n",
       "    }\n",
       "</style>\n",
       "<table border=\"1\" class=\"dataframe\">\n",
       "  <thead>\n",
       "    <tr style=\"text-align: right;\">\n",
       "      <th></th>\n",
       "      <th>id</th>\n",
       "      <th>OVD_t1</th>\n",
       "      <th>OVD_t2</th>\n",
       "      <th>OVD_t3</th>\n",
       "      <th>OVD_sum</th>\n",
       "      <th>pay_normal</th>\n",
       "      <th>prod_code</th>\n",
       "      <th>prod_limit</th>\n",
       "      <th>update_date</th>\n",
       "      <th>new_balance</th>\n",
       "      <th>highest_balance</th>\n",
       "      <th>report_date</th>\n",
       "    </tr>\n",
       "  </thead>\n",
       "  <tbody>\n",
       "    <tr>\n",
       "      <th>0</th>\n",
       "      <td>58987402</td>\n",
       "      <td>0</td>\n",
       "      <td>0</td>\n",
       "      <td>0</td>\n",
       "      <td>0</td>\n",
       "      <td>1</td>\n",
       "      <td>10</td>\n",
       "      <td>False</td>\n",
       "      <td>2016-04-12</td>\n",
       "      <td>0.0</td>\n",
       "      <td>NaN</td>\n",
       "      <td>NaT</td>\n",
       "    </tr>\n",
       "    <tr>\n",
       "      <th>1</th>\n",
       "      <td>58995151</td>\n",
       "      <td>0</td>\n",
       "      <td>0</td>\n",
       "      <td>0</td>\n",
       "      <td>0</td>\n",
       "      <td>1</td>\n",
       "      <td>5</td>\n",
       "      <td>True</td>\n",
       "      <td>2016-04-12</td>\n",
       "      <td>588720.0</td>\n",
       "      <td>491100.0</td>\n",
       "      <td>NaT</td>\n",
       "    </tr>\n",
       "    <tr>\n",
       "      <th>2</th>\n",
       "      <td>58997200</td>\n",
       "      <td>0</td>\n",
       "      <td>0</td>\n",
       "      <td>0</td>\n",
       "      <td>0</td>\n",
       "      <td>2</td>\n",
       "      <td>5</td>\n",
       "      <td>True</td>\n",
       "      <td>2016-04-12</td>\n",
       "      <td>840000.0</td>\n",
       "      <td>700500.0</td>\n",
       "      <td>2016-04-22</td>\n",
       "    </tr>\n",
       "    <tr>\n",
       "      <th>3</th>\n",
       "      <td>54988608</td>\n",
       "      <td>0</td>\n",
       "      <td>0</td>\n",
       "      <td>0</td>\n",
       "      <td>0</td>\n",
       "      <td>3</td>\n",
       "      <td>10</td>\n",
       "      <td>False</td>\n",
       "      <td>2016-03-12</td>\n",
       "      <td>8425.2</td>\n",
       "      <td>7520.0</td>\n",
       "      <td>2016-04-25</td>\n",
       "    </tr>\n",
       "    <tr>\n",
       "      <th>4</th>\n",
       "      <td>54987763</td>\n",
       "      <td>0</td>\n",
       "      <td>0</td>\n",
       "      <td>0</td>\n",
       "      <td>0</td>\n",
       "      <td>2</td>\n",
       "      <td>10</td>\n",
       "      <td>True</td>\n",
       "      <td>2016-03-12</td>\n",
       "      <td>15147.6</td>\n",
       "      <td>NaN</td>\n",
       "      <td>2016-04-26</td>\n",
       "    </tr>\n",
       "  </tbody>\n",
       "</table>\n",
       "</div>"
      ],
      "text/plain": [
       "         id  OVD_t1  OVD_t2  OVD_t3  OVD_sum  pay_normal  prod_code  \\\n",
       "0  58987402       0       0       0        0           1         10   \n",
       "1  58995151       0       0       0        0           1          5   \n",
       "2  58997200       0       0       0        0           2          5   \n",
       "3  54988608       0       0       0        0           3         10   \n",
       "4  54987763       0       0       0        0           2         10   \n",
       "\n",
       "   prod_limit update_date  new_balance  highest_balance report_date  \n",
       "0       False  2016-04-12          0.0              NaN         NaT  \n",
       "1        True  2016-04-12     588720.0         491100.0         NaT  \n",
       "2        True  2016-04-12     840000.0         700500.0  2016-04-22  \n",
       "3       False  2016-03-12       8425.2           7520.0  2016-04-25  \n",
       "4        True  2016-03-12      15147.6              NaN  2016-04-26  "
      ]
     },
     "execution_count": 65,
     "metadata": {},
     "output_type": "execute_result"
    }
   ],
   "source": [
    "payments.loc[:, \"prod_limit\"] = payments.loc[:, \"prod_limit\"].isnull().astype(bool)\n",
    "payments.head()"
   ]
  },
  {
   "cell_type": "markdown",
   "id": "06ff333f-e418-47e5-878f-d26e16fc977c",
   "metadata": {},
   "source": [
    "The two dates, `report_date` and `update_date`, most likely have little to do with the customer or the payment itself but are records of when payments were processed. Consequently, they will be dropped."
   ]
  },
  {
   "cell_type": "code",
   "execution_count": 73,
   "id": "9468dba9-8cda-4174-99dc-05c7799c2ef2",
   "metadata": {},
   "outputs": [
    {
     "data": {
      "text/html": [
       "<div>\n",
       "<style scoped>\n",
       "    .dataframe tbody tr th:only-of-type {\n",
       "        vertical-align: middle;\n",
       "    }\n",
       "\n",
       "    .dataframe tbody tr th {\n",
       "        vertical-align: top;\n",
       "    }\n",
       "\n",
       "    .dataframe thead th {\n",
       "        text-align: right;\n",
       "    }\n",
       "</style>\n",
       "<table border=\"1\" class=\"dataframe\">\n",
       "  <thead>\n",
       "    <tr style=\"text-align: right;\">\n",
       "      <th></th>\n",
       "      <th>id</th>\n",
       "      <th>OVD_t1</th>\n",
       "      <th>OVD_t2</th>\n",
       "      <th>OVD_t3</th>\n",
       "      <th>OVD_sum</th>\n",
       "      <th>pay_normal</th>\n",
       "      <th>prod_code</th>\n",
       "      <th>prod_limit</th>\n",
       "      <th>new_balance</th>\n",
       "      <th>highest_balance</th>\n",
       "    </tr>\n",
       "  </thead>\n",
       "  <tbody>\n",
       "    <tr>\n",
       "      <th>0</th>\n",
       "      <td>58987402</td>\n",
       "      <td>0</td>\n",
       "      <td>0</td>\n",
       "      <td>0</td>\n",
       "      <td>0</td>\n",
       "      <td>1</td>\n",
       "      <td>10</td>\n",
       "      <td>False</td>\n",
       "      <td>0.0</td>\n",
       "      <td>NaN</td>\n",
       "    </tr>\n",
       "    <tr>\n",
       "      <th>1</th>\n",
       "      <td>58995151</td>\n",
       "      <td>0</td>\n",
       "      <td>0</td>\n",
       "      <td>0</td>\n",
       "      <td>0</td>\n",
       "      <td>1</td>\n",
       "      <td>5</td>\n",
       "      <td>True</td>\n",
       "      <td>588720.0</td>\n",
       "      <td>491100.0</td>\n",
       "    </tr>\n",
       "    <tr>\n",
       "      <th>2</th>\n",
       "      <td>58997200</td>\n",
       "      <td>0</td>\n",
       "      <td>0</td>\n",
       "      <td>0</td>\n",
       "      <td>0</td>\n",
       "      <td>2</td>\n",
       "      <td>5</td>\n",
       "      <td>True</td>\n",
       "      <td>840000.0</td>\n",
       "      <td>700500.0</td>\n",
       "    </tr>\n",
       "    <tr>\n",
       "      <th>3</th>\n",
       "      <td>54988608</td>\n",
       "      <td>0</td>\n",
       "      <td>0</td>\n",
       "      <td>0</td>\n",
       "      <td>0</td>\n",
       "      <td>3</td>\n",
       "      <td>10</td>\n",
       "      <td>False</td>\n",
       "      <td>8425.2</td>\n",
       "      <td>7520.0</td>\n",
       "    </tr>\n",
       "    <tr>\n",
       "      <th>4</th>\n",
       "      <td>54987763</td>\n",
       "      <td>0</td>\n",
       "      <td>0</td>\n",
       "      <td>0</td>\n",
       "      <td>0</td>\n",
       "      <td>2</td>\n",
       "      <td>10</td>\n",
       "      <td>True</td>\n",
       "      <td>15147.6</td>\n",
       "      <td>NaN</td>\n",
       "    </tr>\n",
       "  </tbody>\n",
       "</table>\n",
       "</div>"
      ],
      "text/plain": [
       "         id  OVD_t1  OVD_t2  OVD_t3  OVD_sum  pay_normal  prod_code  \\\n",
       "0  58987402       0       0       0        0           1         10   \n",
       "1  58995151       0       0       0        0           1          5   \n",
       "2  58997200       0       0       0        0           2          5   \n",
       "3  54988608       0       0       0        0           3         10   \n",
       "4  54987763       0       0       0        0           2         10   \n",
       "\n",
       "   prod_limit  new_balance  highest_balance  \n",
       "0       False          0.0              NaN  \n",
       "1        True     588720.0         491100.0  \n",
       "2        True     840000.0         700500.0  \n",
       "3       False       8425.2           7520.0  \n",
       "4        True      15147.6              NaN  "
      ]
     },
     "execution_count": 73,
     "metadata": {},
     "output_type": "execute_result"
    }
   ],
   "source": [
    "payments = payments.drop([\"update_date\", \"report_date\"], axis=1)\n",
    "payments.head()"
   ]
  },
  {
   "cell_type": "markdown",
   "id": "6acfc70e-6b48-4b58-a6c1-6447e5314307",
   "metadata": {},
   "source": [
    "Lastly, missing values in `highest_balance` will be imputed similar to the missing values in the cutomer data, i.e. by randomly sampling from other values for that feature. However, a caveat is that the values for this feature may come from a separate distribution for each product type. Plotting the distributions of this feature for each product types shows notable differences in the scale. This make sense, as different credit products will have different scales, e.g. a mortage will typically be much higher than credit card debts."
   ]
  },
  {
   "cell_type": "code",
   "execution_count": 74,
   "id": "d8c26fed-160d-49ca-a028-013a181e02f1",
   "metadata": {},
   "outputs": [
    {
     "data": {
      "image/png": "[encoded data removed]",
      "text/plain": [
       "<Figure size 360x360 with 1 Axes>"
      ]
     },
     "metadata": {
      "needs_background": "light"
     },
     "output_type": "display_data"
    }
   ],
   "source": [
    "fig = sns.catplot(data=payments, x=\"prod_code\", y=\"highest_balance\", kind=\"box\")\n",
    "fig.set(yscale=\"log\", title=\"Distribution of 'highest_balance' feature\");"
   ]
  },
  {
   "cell_type": "markdown",
   "id": "87e527d9-5637-43ef-862e-3d624c2fc305",
   "metadata": {},
   "source": [
    "To retain product-specific data distributions, missing values are randomly sampled only from values that correspond to the same product code."
   ]
  },
  {
   "cell_type": "code",
   "execution_count": 75,
   "id": "80d87c80-ac01-49ff-9df1-1979d5c0d7e2",
   "metadata": {},
   "outputs": [],
   "source": [
    "def impute_highest_balance_by_random_sampling(df):\n",
    "    missing_indices = df.loc[:, \"highest_balance\"].isnull().values\n",
    "    random_sample = df.loc[~df.loc[:, \"highest_balance\"].isnull(), \"highest_balance\"].sample(missing_indices.sum()).values\n",
    "    df.loc[missing_indices, \"highest_balance\"] = random_sample\n",
    "    return df\n",
    "\n",
    "payments = payments.groupby(\"prod_code\").apply(impute_highest_balance_by_random_sampling)"
   ]
  },
  {
   "cell_type": "markdown",
   "id": "2906907e-85b5-4efe-9a54-c2eaa2a4ee0f",
   "metadata": {},
   "source": [
    "#### Feature engineering"
   ]
  },
  {
   "cell_type": "code",
   "execution_count": null,
   "id": "1764c745-42a6-4de9-8eae-b021e5ff2750",
   "metadata": {},
   "outputs": [],
   "source": []
  }
 ],
 "metadata": {
  "kernelspec": {
   "display_name": "Python 3 (ipykernel)",
   "language": "python",
   "name": "python3"
  },
  "language_info": {
   "codemirror_mode": {
    "name": "ipython",
    "version": 3
   },
   "file_extension": ".py",
   "mimetype": "text/x-python",
   "name": "python",
   "nbconvert_exporter": "python",
   "pygments_lexer": "ipython3",
   "version": "3.7.2"
  }
 },
 "nbformat": 4,
 "nbformat_minor": 5
}
